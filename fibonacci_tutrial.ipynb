{
 "cells": [
  {
   "cell_type": "markdown",
   "metadata": {},
   "source": [
    "# フィボナッチ数の課題をゆっくりやります\n",
    "$n$番目のフィボナッチ数を$F(n)$で表す。\n",
    "この時の関数$F(n)$を`def fib(n):`に続けて実装してみてください。\n",
    "ただし$$F(0) = 0, F(1) = 1, F(n) = F(n-1) + F(n-2) (n >= 2)$$とします。\n",
    "最初は自分の頭で考えてみて，5分～15分考えてわからなければ検索・相談しましょう。\n",
    "なるべく処理が早いほうがいい。\n",
    "n=2018のときいくつか。\n"
   ]
  },
  {
   "cell_type": "markdown",
   "metadata": {},
   "source": [
    "まず，$F(10)$までを手計算で計算して見ましょう。\n",
    "次に，それをプログラミングしてみましょう。"
   ]
  },
  {
   "cell_type": "code",
   "execution_count": 1,
   "metadata": {},
   "outputs": [
    {
     "name": "stdout",
     "output_type": "stream",
     "text": [
      "55\n"
     ]
    }
   ],
   "source": [
    "a_0 = 0\n",
    "a_1 = 1\n",
    "a_2 = a_1 + a_0\n",
    "a_3 = a_2 + a_1\n",
    "\n",
    "# ここにa_10までを計算するように書く\n",
    "a_4 = a_3 + a_2\n",
    "a_5 = a_4 + a_3\n",
    "a_6 = a_5 + a_4\n",
    "a_7 = a_6 + a_5\n",
    "a_8 = a_7 + a_6\n",
    "a_9 = a_8 + a_7\n",
    "a_10 = a_9 + a_8\n",
    "print(a_10)"
   ]
  },
  {
   "cell_type": "markdown",
   "metadata": {},
   "source": [
    "繰り返し部分をforループで書いてみましょう。"
   ]
  },
  {
   "cell_type": "code",
   "execution_count": 26,
   "metadata": {},
   "outputs": [
    {
     "name": "stdout",
     "output_type": "stream",
     "text": [
      "0\n",
      "1\n",
      "2\n",
      "3\n",
      "4\n",
      "5\n",
      "6\n",
      "7\n",
      "8\n",
      "9\n",
      "[2, 3, 4, 5, 6, 7, 8, 9, 10]\n"
     ]
    }
   ],
   "source": [
    "# range関数がどのような出力なのか確認\n",
    "for i in range(10):\n",
    "    print(i)\n",
    "print(list(range(2, 11)))"
   ]
  },
  {
   "cell_type": "code",
   "execution_count": 32,
   "metadata": {},
   "outputs": [
    {
     "name": "stdout",
     "output_type": "stream",
     "text": [
      "3 2\n",
      "4 3\n",
      "5 5\n",
      "6 8\n",
      "7 13\n",
      "8 21\n",
      "9 34\n",
      "10 55\n",
      "55\n"
     ]
    }
   ],
   "source": [
    "a_0 = 0\n",
    "a_1 = 1\n",
    "a = a_0\n",
    "b = a_1\n",
    "c = a + b\n",
    "#このforループの中を編集してやってみましょう。\n",
    "for i in range(3, 11):\n",
    "    a = b\n",
    "    b = c\n",
    "    c = a + b\n",
    "    print(i,c)\n",
    "\n",
    "a_10 = c\n",
    "print(a_10)"
   ]
  },
  {
   "cell_type": "markdown",
   "metadata": {},
   "source": [
    "nまで計算できるように編集してみましょう。\n"
   ]
  },
  {
   "cell_type": "code",
   "execution_count": 39,
   "metadata": {},
   "outputs": [
    {
     "name": "stdout",
     "output_type": "stream",
     "text": [
      "0 2\n",
      "1 3\n",
      "2 5\n"
     ]
    }
   ],
   "source": [
    "#ここにプログラムを書く\n",
    "a_0 = 0\n",
    "a_1 = 1\n",
    "a = a_0\n",
    "b = a_1\n",
    "c = a + b\n",
    "for i in range(3,):\n",
    "    a = b\n",
    "    b = c\n",
    "    c = a + b\n",
    "    print(i,c)"
   ]
  },
  {
   "cell_type": "markdown",
   "metadata": {},
   "source": [
    "defを使って関数にしてみましょう。"
   ]
  },
  {
   "cell_type": "code",
   "execution_count": 71,
   "metadata": {},
   "outputs": [
    {
     "name": "stdout",
     "output_type": "stream",
     "text": [
      "3 2\n",
      "4 3\n",
      "5 5\n",
      "6 8\n",
      "7 13\n",
      "8 21\n",
      "9 34\n",
      "10 55\n",
      "55\n"
     ]
    }
   ],
   "source": [
    "def fib(n):\n",
    "    #ここにプログラムを書く\n",
    "    a_0 = 0\n",
    "    a_1 = 1\n",
    "    a = a_0\n",
    "    b = a_1\n",
    "    c = a + b\n",
    "    for i in range(3,11):\n",
    "        a = b\n",
    "        b = c\n",
    "        c = a + b\n",
    "        print(i,c)\n",
    "        \n",
    "    a_n = c \n",
    "    return a_n\n",
    "\n",
    "print(fib(10))"
   ]
  },
  {
   "cell_type": "markdown",
   "metadata": {},
   "source": [
    "リストを使ってやってみましょう"
   ]
  },
  {
   "cell_type": "code",
   "execution_count": 73,
   "metadata": {},
   "outputs": [
    {
     "name": "stdout",
     "output_type": "stream",
     "text": [
      "[0, 1, 1, 2, 3, 5, 8, 13, 21, 34, 55, 89, 144, 233, 377, 610, 987, 1597, 2584, 4181, 6765]\n"
     ]
    }
   ],
   "source": [
    "def fib_list(n):\n",
    "    result = [0, 1]\n",
    "    for i in range(2,n + 1):\n",
    "        result.append(result[-1] + result[-2])\n",
    "    return result\n",
    "\n",
    "print(fib_list(20))"
   ]
  },
  {
   "cell_type": "markdown",
   "metadata": {},
   "source": [
    "$m$以下で最大のフィボナッチ数の$n$を求める関数を`argfib(m)`という名前でつくる\n",
    "m=2018のときいくつか。"
   ]
  },
  {
   "cell_type": "markdown",
   "metadata": {},
   "source": [
    "まずは先ほど作った関数を用いてwhileループを使ってやってみましょう。"
   ]
  },
  {
   "cell_type": "code",
   "execution_count": null,
   "metadata": {},
   "outputs": [],
   "source": [
    "m = 100\n",
    "i = 2\n",
    "a_i = 1 + 0\n",
    "while a_i <= m:\n",
    "    #ここにプログラムを書く\n",
    "    a_i = fib(i)\n",
    "    print(i,a_i)\n",
    "    i = i + 1\n",
    "    \n",
    "    print(\"answer is\",i-2,fib(i-2))"
   ]
  },
  {
   "cell_type": "markdown",
   "metadata": {},
   "source": [
    "他の書き方もやってみましょう。"
   ]
  }
 ],
 "metadata": {
  "kernelspec": {
   "display_name": "Python 3",
   "language": "python",
   "name": "python3"
  },
  "language_info": {
   "codemirror_mode": {
    "name": "ipython",
    "version": 3
   },
   "file_extension": ".py",
   "mimetype": "text/x-python",
   "name": "python",
   "nbconvert_exporter": "python",
   "pygments_lexer": "ipython3",
   "version": "3.7.0"
  }
 },
 "nbformat": 4,
 "nbformat_minor": 2
}
